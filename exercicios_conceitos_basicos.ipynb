{
  "nbformat": 4,
  "nbformat_minor": 0,
  "metadata": {
    "colab": {
      "provenance": [],
      "authorship_tag": "ABX9TyPWicrB4h21/dUiHnM5KXYW",
      "include_colab_link": true
    },
    "kernelspec": {
      "name": "python3",
      "display_name": "Python 3"
    },
    "language_info": {
      "name": "python"
    }
  },
  "cells": [
    {
      "cell_type": "markdown",
      "metadata": {
        "id": "view-in-github",
        "colab_type": "text"
      },
      "source": [
        "<a href=\"https://colab.research.google.com/github/felipequinto/estudos_python/blob/main/exercicios_conceitos_basicos.ipynb\" target=\"_parent\"><img src=\"https://colab.research.google.com/assets/colab-badge.svg\" alt=\"Open In Colab\"/></a>"
      ]
    },
    {
      "cell_type": "markdown",
      "source": [
        "# Exercícios"
      ],
      "metadata": {
        "id": "EUlHWiubKdIg"
      }
    },
    {
      "cell_type": "markdown",
      "source": [
        "1. Criar uma variável com valor 6 (tipo inteiro). Criar outra variável com o valor 2 (tipo inteiro). Dividir a primeira pela segunda (salvar em uma nova variável). Ver o tipo do resultado da divisão."
      ],
      "metadata": {
        "id": "MI_zxQoFQgW4"
      }
    },
    {
      "cell_type": "code",
      "execution_count": null,
      "metadata": {
        "id": "ZlA-y6DwKRSQ"
      },
      "outputs": [],
      "source": [
        "x = 6"
      ]
    },
    {
      "cell_type": "code",
      "source": [
        "y = 2"
      ],
      "metadata": {
        "id": "kRuUpYjVQ5pa"
      },
      "execution_count": null,
      "outputs": []
    },
    {
      "cell_type": "code",
      "source": [
        "z = x / y"
      ],
      "metadata": {
        "id": "G6OOA5AWQ9QK"
      },
      "execution_count": null,
      "outputs": []
    },
    {
      "cell_type": "code",
      "source": [
        "z"
      ],
      "metadata": {
        "colab": {
          "base_uri": "https://localhost:8080/"
        },
        "id": "5aHrLSiNRKOK",
        "outputId": "17c87eb5-1a64-4fd6-a219-1f756c22bd15"
      },
      "execution_count": null,
      "outputs": [
        {
          "output_type": "execute_result",
          "data": {
            "text/plain": [
              "3.0"
            ]
          },
          "metadata": {},
          "execution_count": 5
        }
      ]
    },
    {
      "cell_type": "markdown",
      "source": [
        "2. Ao final de um ano, dois amigos querem dividir o lucro obtido através de um site por onde\n",
        "prestam serviço de consultoria para projetos de IA. Digamos que o lucro mensal seja de 8k. O\n",
        "amigo1 tem direito a 30% e o restante pertence ao amigo2. Calcule o lucro total do ano e o\n",
        "lucro de cada amigo."
      ],
      "metadata": {
        "id": "R2CFi63XRa4F"
      }
    },
    {
      "cell_type": "code",
      "source": [
        "lucro_mensal = 8000\n",
        "lucro_anual = 12 * lucro_mensal\n",
        "'O lucro anual é de R$ ' + str(lucro_anual)"
      ],
      "metadata": {
        "colab": {
          "base_uri": "https://localhost:8080/",
          "height": 35
        },
        "id": "4OQ6hb-2Rhiw",
        "outputId": "efade120-1f3a-40b1-ae65-8c04356685e2"
      },
      "execution_count": null,
      "outputs": [
        {
          "output_type": "execute_result",
          "data": {
            "text/plain": [
              "'O lucro anual é de R$ 96000'"
            ],
            "application/vnd.google.colaboratory.intrinsic+json": {
              "type": "string"
            }
          },
          "metadata": {},
          "execution_count": 9
        }
      ]
    },
    {
      "cell_type": "code",
      "source": [
        "amigo1 = lucro_anual * 0.3\n",
        "'O amigo 1 vai receber R$ ' + str(amigo1)"
      ],
      "metadata": {
        "colab": {
          "base_uri": "https://localhost:8080/",
          "height": 35
        },
        "id": "gnPqoryfUCig",
        "outputId": "556cb433-8ddb-4dd8-81a3-58e82e273dfd"
      },
      "execution_count": null,
      "outputs": [
        {
          "output_type": "execute_result",
          "data": {
            "text/plain": [
              "'O amigo 1 vai receber R$ 28800.0'"
            ],
            "application/vnd.google.colaboratory.intrinsic+json": {
              "type": "string"
            }
          },
          "metadata": {},
          "execution_count": 12
        }
      ]
    },
    {
      "cell_type": "code",
      "source": [
        "amigo2 = lucro_anual - amigo1\n",
        "'O amigo 2 vai receber R$ ' + str(amigo2)"
      ],
      "metadata": {
        "colab": {
          "base_uri": "https://localhost:8080/",
          "height": 35
        },
        "id": "mJCn4OL7UfE3",
        "outputId": "937661c7-0e23-4b3a-b20d-5cca8536b4b6"
      },
      "execution_count": null,
      "outputs": [
        {
          "output_type": "execute_result",
          "data": {
            "text/plain": [
              "'O amigo 2 vai receber R$ 67200.0'"
            ],
            "application/vnd.google.colaboratory.intrinsic+json": {
              "type": "string"
            }
          },
          "metadata": {},
          "execution_count": 13
        }
      ]
    },
    {
      "cell_type": "markdown",
      "source": [
        "3. Faça a conta de cabeça e diga qual será o resultado da expressão:\n",
        "5 + 3 * 10 / 3 == 15\n",
        "(Confirme pelo Python)"
      ],
      "metadata": {
        "id": "6rw4NejfW-YH"
      }
    },
    {
      "cell_type": "code",
      "source": [
        "5 + 3 * 10 / 3 == 15"
      ],
      "metadata": {
        "colab": {
          "base_uri": "https://localhost:8080/"
        },
        "id": "zJ6utgNzUpfM",
        "outputId": "06b7b3ab-0a68-43c5-885a-62f4b5adf166"
      },
      "execution_count": null,
      "outputs": [
        {
          "output_type": "execute_result",
          "data": {
            "text/plain": [
              "True"
            ]
          },
          "metadata": {},
          "execution_count": 15
        }
      ]
    },
    {
      "cell_type": "markdown",
      "source": [
        "4. Use os dados fornecidos e faça um script para atender as necessidades descritas\n",
        "abaixo:\n",
        "\n",
        "movieName = \"The Shining\"\n",
        "\n",
        "actors=[\"Jack Nicholson\", \"Shelley Duvall\", \"Danny Lloyd\", \"Scatman Crothers\", \"Barry Nelson\"]\n",
        "\n",
        "scores = [4.5,4.0,5.0]\n",
        "\n",
        "comments = [\"Best Horror Film I Have Ever Seen\", \"A truly brilliant and scary film from Stanley Kubrick\", \"A masterpiece of psychological horror\"]\n",
        "\n",
        "1. Crie uma lista com os 4 elementos carregados: nome do filme, atores, comentários e avaliações;\n",
        "2. Imprima o vetor com o nome do primeiro ator;\n",
        "3. Imprima a melhor avaliação do filme (score e comentário)"
      ],
      "metadata": {
        "id": "tpfCQHs2X1Pk"
      }
    },
    {
      "cell_type": "code",
      "source": [
        "movieName = \"The Shining\"\n",
        "actors = [\"Jack Nicholson\", \"Shelley Duvall\", \"Danny Lloyd\", \"Scatman Crothers\", \"Barry Nelson\"]\n",
        "scores = [4.5,4.0,5.0]\n",
        "comments = [\"Best Horror Film I Have Ever Seen\", \"A truly brilliant and scary film from Stanley Kubrick\", \"A masterpiece of psychological horror\"]"
      ],
      "metadata": {
        "id": "ZEP7UJrgYODW"
      },
      "execution_count": null,
      "outputs": []
    },
    {
      "cell_type": "code",
      "source": [
        "# 1\n",
        "new_list = [movieName, actors, scores, comments]\n",
        "new_list"
      ],
      "metadata": {
        "colab": {
          "base_uri": "https://localhost:8080/"
        },
        "id": "mEjgITXQZofJ",
        "outputId": "decd24de-06d7-49c7-c393-76e2a840a0e6"
      },
      "execution_count": null,
      "outputs": [
        {
          "output_type": "execute_result",
          "data": {
            "text/plain": [
              "['The Shining',\n",
              " ['Jack Nicholson',\n",
              "  'Shelley Duvall',\n",
              "  'Danny Lloyd',\n",
              "  'Scatman Crothers',\n",
              "  'Barry Nelson'],\n",
              " [4.5, 4.0, 5.0],\n",
              " ['Best Horror Film I Have Ever Seen',\n",
              "  'A truly brilliant and scary film from Stanley Kubrick',\n",
              "  'A masterpiece of psychological horror']]"
            ]
          },
          "metadata": {},
          "execution_count": 21
        }
      ]
    },
    {
      "cell_type": "code",
      "source": [
        "# 2\n",
        "new_list[1][0]"
      ],
      "metadata": {
        "colab": {
          "base_uri": "https://localhost:8080/",
          "height": 35
        },
        "id": "0Qqh2mpybBel",
        "outputId": "14ecdcfa-153c-4f7b-e63f-526bff3fefde"
      },
      "execution_count": null,
      "outputs": [
        {
          "output_type": "execute_result",
          "data": {
            "text/plain": [
              "'Jack Nicholson'"
            ],
            "application/vnd.google.colaboratory.intrinsic+json": {
              "type": "string"
            }
          },
          "metadata": {},
          "execution_count": 28
        }
      ]
    },
    {
      "cell_type": "code",
      "source": [
        "# 3\n",
        "maior_avaliacao = max(scores)\n",
        "'Melhor avaliação é ' + str(maior_avaliacao)"
      ],
      "metadata": {
        "colab": {
          "base_uri": "https://localhost:8080/",
          "height": 35
        },
        "id": "ScfjmngDbjQ1",
        "outputId": "bd4b2b2c-fdd4-4d0f-a41c-43600b295c7d"
      },
      "execution_count": null,
      "outputs": [
        {
          "output_type": "execute_result",
          "data": {
            "text/plain": [
              "'Melhor avaliação é 5.0'"
            ],
            "application/vnd.google.colaboratory.intrinsic+json": {
              "type": "string"
            }
          },
          "metadata": {},
          "execution_count": 32
        }
      ]
    },
    {
      "cell_type": "code",
      "source": [
        "indice = scores.index(maior_avaliacao)\n",
        "comments[indice]\n"
      ],
      "metadata": {
        "colab": {
          "base_uri": "https://localhost:8080/",
          "height": 35
        },
        "id": "f6xEwJ60e-tZ",
        "outputId": "9fcaf80a-656f-4414-ece6-409f4979eff2"
      },
      "execution_count": null,
      "outputs": [
        {
          "output_type": "execute_result",
          "data": {
            "text/plain": [
              "'A masterpiece of psychological horror'"
            ],
            "application/vnd.google.colaboratory.intrinsic+json": {
              "type": "string"
            }
          },
          "metadata": {},
          "execution_count": 37
        }
      ]
    },
    {
      "cell_type": "markdown",
      "source": [
        "5. Exercício: crie um script que pergunte quantos anos o usuário tem e espere a resposta\n",
        "do mesmo. Em seguida imprima a idade, o tipo, converta para numérico e imprima novamente o tipo."
      ],
      "metadata": {
        "id": "bGFlMkbchThr"
      }
    },
    {
      "cell_type": "code",
      "source": [
        "idade = input('Quantos anos você tem? ')"
      ],
      "metadata": {
        "colab": {
          "base_uri": "https://localhost:8080/"
        },
        "id": "e-DDHNquhZMq",
        "outputId": "11f16c9f-433c-48d0-c6c0-dee03843eb15"
      },
      "execution_count": null,
      "outputs": [
        {
          "name": "stdout",
          "output_type": "stream",
          "text": [
            "Quantos anos você tem? 38\n"
          ]
        }
      ]
    },
    {
      "cell_type": "code",
      "source": [
        "idade"
      ],
      "metadata": {
        "colab": {
          "base_uri": "https://localhost:8080/",
          "height": 35
        },
        "id": "z8ylX_DoiLUO",
        "outputId": "0c63ee93-3f42-4cab-8ce8-187fc3e41c57"
      },
      "execution_count": null,
      "outputs": [
        {
          "output_type": "execute_result",
          "data": {
            "text/plain": [
              "'38'"
            ],
            "application/vnd.google.colaboratory.intrinsic+json": {
              "type": "string"
            }
          },
          "metadata": {},
          "execution_count": 54
        }
      ]
    },
    {
      "cell_type": "code",
      "source": [
        "type(idade)"
      ],
      "metadata": {
        "colab": {
          "base_uri": "https://localhost:8080/"
        },
        "id": "rTEcga2ZiT2E",
        "outputId": "733db0f7-c2d4-4ae7-c8d3-dfadd7a9863b"
      },
      "execution_count": null,
      "outputs": [
        {
          "output_type": "execute_result",
          "data": {
            "text/plain": [
              "str"
            ]
          },
          "metadata": {},
          "execution_count": 55
        }
      ]
    },
    {
      "cell_type": "code",
      "source": [
        "idade_int = int(idade)\n",
        "a"
      ],
      "metadata": {
        "colab": {
          "base_uri": "https://localhost:8080/"
        },
        "id": "K0bvBdq3iVRz",
        "outputId": "f10133cd-0e81-4ad1-d2e8-53d0ad6b2199"
      },
      "execution_count": null,
      "outputs": [
        {
          "output_type": "execute_result",
          "data": {
            "text/plain": [
              "38"
            ]
          },
          "metadata": {},
          "execution_count": 58
        }
      ]
    },
    {
      "cell_type": "code",
      "source": [
        "type(idade_int)"
      ],
      "metadata": {
        "colab": {
          "base_uri": "https://localhost:8080/"
        },
        "id": "M0ykwLkNiZUl",
        "outputId": "e6a4752f-c6e6-422f-e791-c71d8b1a4be0"
      },
      "execution_count": null,
      "outputs": [
        {
          "output_type": "execute_result",
          "data": {
            "text/plain": [
              "int"
            ]
          },
          "metadata": {},
          "execution_count": 59
        }
      ]
    }
  ]
}