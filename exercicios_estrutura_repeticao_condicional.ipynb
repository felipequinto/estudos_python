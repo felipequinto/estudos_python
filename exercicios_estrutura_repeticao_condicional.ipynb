{
  "nbformat": 4,
  "nbformat_minor": 0,
  "metadata": {
    "colab": {
      "provenance": [],
      "authorship_tag": "ABX9TyMN0j65Dsafa6F4cw07ZmaQ",
      "include_colab_link": true
    },
    "kernelspec": {
      "name": "python3",
      "display_name": "Python 3"
    },
    "language_info": {
      "name": "python"
    }
  },
  "cells": [
    {
      "cell_type": "markdown",
      "metadata": {
        "id": "view-in-github",
        "colab_type": "text"
      },
      "source": [
        "<a href=\"https://colab.research.google.com/github/felipequinto/estudos_python/blob/main/exercicios_estrutura_repeticao_condicional.ipynb\" target=\"_parent\"><img src=\"https://colab.research.google.com/assets/colab-badge.svg\" alt=\"Open In Colab\"/></a>"
      ]
    },
    {
      "cell_type": "markdown",
      "source": [
        "# Estruturas de repetição e condicional"
      ],
      "metadata": {
        "id": "QFO2orJIzzEi"
      }
    },
    {
      "cell_type": "markdown",
      "source": [
        "1. Imprima uma sequência de 25 números consecutivos."
      ],
      "metadata": {
        "id": "RzbJARNy0Gfv"
      }
    },
    {
      "cell_type": "code",
      "source": [
        "contador = 1\n",
        "while contador <=25:\n",
        "  print(contador)\n",
        "  contador +=1"
      ],
      "metadata": {
        "id": "qdNWYXu4EaZV",
        "colab": {
          "base_uri": "https://localhost:8080/"
        },
        "outputId": "5308c050-8051-4342-e276-4d6760bfa979"
      },
      "execution_count": null,
      "outputs": [
        {
          "output_type": "stream",
          "name": "stdout",
          "text": [
            "1\n",
            "2\n",
            "3\n",
            "4\n",
            "5\n",
            "6\n",
            "7\n",
            "8\n",
            "9\n",
            "10\n",
            "11\n",
            "12\n",
            "13\n",
            "14\n",
            "15\n",
            "16\n",
            "17\n",
            "18\n",
            "19\n",
            "20\n",
            "21\n",
            "22\n",
            "23\n",
            "24\n",
            "25\n"
          ]
        }
      ]
    },
    {
      "cell_type": "code",
      "execution_count": null,
      "metadata": {
        "id": "vuCMazoAzurs",
        "colab": {
          "base_uri": "https://localhost:8080/"
        },
        "outputId": "b43f3aee-3db4-451f-824b-20230f4c788e"
      },
      "outputs": [
        {
          "output_type": "stream",
          "name": "stdout",
          "text": [
            "0\n",
            "1\n",
            "2\n",
            "3\n",
            "4\n",
            "5\n",
            "6\n",
            "7\n",
            "8\n",
            "9\n",
            "10\n",
            "11\n",
            "12\n",
            "13\n",
            "14\n",
            "15\n",
            "16\n",
            "17\n",
            "18\n",
            "19\n",
            "20\n",
            "21\n",
            "22\n",
            "23\n",
            "24\n"
          ]
        }
      ],
      "source": [
        "for i in range(25):\n",
        "  print(i)"
      ]
    },
    {
      "cell_type": "markdown",
      "source": [
        "2. Imprima a sequência acima 2 vezes. Dica: for dentro de for ou while dentro de while, etc..."
      ],
      "metadata": {
        "id": "XNKVaEi40tka"
      }
    },
    {
      "cell_type": "code",
      "source": [
        "for n in range(2):\n",
        "  for i in range(25):\n",
        "    print(i)"
      ],
      "metadata": {
        "id": "E_d2f9eq35-_",
        "colab": {
          "base_uri": "https://localhost:8080/"
        },
        "outputId": "952d5ae2-367d-4ca3-8754-d3652eb07817"
      },
      "execution_count": null,
      "outputs": [
        {
          "output_type": "stream",
          "name": "stdout",
          "text": [
            "0\n",
            "1\n",
            "2\n",
            "3\n",
            "4\n",
            "5\n",
            "6\n",
            "7\n",
            "8\n",
            "9\n",
            "10\n",
            "11\n",
            "12\n",
            "13\n",
            "14\n",
            "15\n",
            "16\n",
            "17\n",
            "18\n",
            "19\n",
            "20\n",
            "21\n",
            "22\n",
            "23\n",
            "24\n",
            "0\n",
            "1\n",
            "2\n",
            "3\n",
            "4\n",
            "5\n",
            "6\n",
            "7\n",
            "8\n",
            "9\n",
            "10\n",
            "11\n",
            "12\n",
            "13\n",
            "14\n",
            "15\n",
            "16\n",
            "17\n",
            "18\n",
            "19\n",
            "20\n",
            "21\n",
            "22\n",
            "23\n",
            "24\n"
          ]
        }
      ]
    },
    {
      "cell_type": "markdown",
      "source": [
        "3. Na sequência de 0 a 30, imprima somente os números pares. Dica: operador para pegar o resto de uma divisão: %"
      ],
      "metadata": {
        "id": "b0B35XEz2Q2m"
      }
    },
    {
      "cell_type": "code",
      "source": [
        "for i in range(31):\n",
        "  if i % 2 == 0:\n",
        "    print(i)"
      ],
      "metadata": {
        "colab": {
          "base_uri": "https://localhost:8080/"
        },
        "id": "0vZg9s0pNe5f",
        "outputId": "a93a657b-35a7-41c0-a913-94740e10c538"
      },
      "execution_count": null,
      "outputs": [
        {
          "output_type": "stream",
          "name": "stdout",
          "text": [
            "0\n",
            "2\n",
            "4\n",
            "6\n",
            "8\n",
            "10\n",
            "12\n",
            "14\n",
            "16\n",
            "18\n",
            "20\n",
            "22\n",
            "24\n",
            "26\n",
            "28\n",
            "30\n"
          ]
        }
      ]
    },
    {
      "cell_type": "markdown",
      "source": [
        "4. Mega Sena: 6 números entre 1 e 60 (1 sorteio). (usando uma estrutura de repetição e sem usar estruturas de repetição).\n",
        "Dica: função np.random.randint"
      ],
      "metadata": {
        "id": "199XMtvROnhl"
      }
    },
    {
      "cell_type": "code",
      "source": [
        "# Pode gerar números repetidos\n",
        "\n",
        "import numpy as np\n",
        "\n",
        "for i in range(6):\n",
        "  print(np.random.randint(1,61))\n",
        "  "
      ],
      "metadata": {
        "id": "SUCUCuaPOmWo",
        "colab": {
          "base_uri": "https://localhost:8080/"
        },
        "outputId": "b2046231-9fd8-4c73-9a22-1c1e786e2961"
      },
      "execution_count": null,
      "outputs": [
        {
          "output_type": "stream",
          "name": "stdout",
          "text": [
            "17\n",
            "34\n",
            "22\n",
            "47\n",
            "2\n",
            "20\n"
          ]
        }
      ]
    },
    {
      "cell_type": "code",
      "source": [
        "# Não gera números repetidos\n",
        "\n",
        "numeros_sorteados =[]\n",
        "\n",
        "while len(numeros_sorteados) <6:\n",
        "  numero = np.random.randint(1,61)\n",
        "\n",
        "  if numero not in numeros_sorteados:\n",
        "     numeros_sorteados.append(numero)\n",
        "\n",
        "print('Números sorteados: ', numeros_sorteados)     "
      ],
      "metadata": {
        "colab": {
          "base_uri": "https://localhost:8080/"
        },
        "id": "nIcFdFHW8Lcq",
        "outputId": "789240f1-ac62-46d1-8bff-2903d9de3e0c"
      },
      "execution_count": null,
      "outputs": [
        {
          "output_type": "stream",
          "name": "stdout",
          "text": [
            "Números sorteados:  [30, 31, 59, 1, 34, 7]\n"
          ]
        }
      ]
    },
    {
      "cell_type": "code",
      "source": [
        "np.random.randint(1,61, 6) # Pode gerar números repetidos"
      ],
      "metadata": {
        "colab": {
          "base_uri": "https://localhost:8080/"
        },
        "id": "TVf8U0cjCK75",
        "outputId": "22b814da-877d-415f-eca9-0a674b92f94a"
      },
      "execution_count": null,
      "outputs": [
        {
          "output_type": "execute_result",
          "data": {
            "text/plain": [
              "array([52, 25, 39, 28, 15, 24])"
            ]
          },
          "metadata": {},
          "execution_count": 8
        }
      ]
    },
    {
      "cell_type": "code",
      "source": [
        "np.random.choice(range(1,61), 6, False) # Não gera números repetidos"
      ],
      "metadata": {
        "colab": {
          "base_uri": "https://localhost:8080/"
        },
        "id": "8ZBha2XaC2S0",
        "outputId": "fdfb0ca3-d551-47ed-fd94-e0cf58dd520d"
      },
      "execution_count": null,
      "outputs": [
        {
          "output_type": "execute_result",
          "data": {
            "text/plain": [
              "array([24, 39, 11, 45,  1, 36])"
            ]
          },
          "metadata": {},
          "execution_count": 9
        }
      ]
    },
    {
      "cell_type": "markdown",
      "source": [
        "5. Simule o resultado de um dado de 6 faces jogado 7 vezes. (usando uma estrutura de repetição e sem usar estruturas de\n",
        "repetição). Dica: função np.random.randint"
      ],
      "metadata": {
        "id": "qzGBTKi7YFAD"
      }
    },
    {
      "cell_type": "code",
      "source": [
        "for dado in range(7):\n",
        "  print(np.random.randint(1,7))"
      ],
      "metadata": {
        "colab": {
          "base_uri": "https://localhost:8080/"
        },
        "id": "M_8vWsj2_xxP",
        "outputId": "6a01c6d5-e989-438c-df42-c25bbd39064d"
      },
      "execution_count": null,
      "outputs": [
        {
          "output_type": "stream",
          "name": "stdout",
          "text": [
            "6\n",
            "3\n",
            "3\n",
            "5\n",
            "3\n",
            "6\n",
            "2\n"
          ]
        }
      ]
    },
    {
      "cell_type": "code",
      "source": [
        "np.random.randint(1,7,7)"
      ],
      "metadata": {
        "colab": {
          "base_uri": "https://localhost:8080/"
        },
        "id": "UZR2pVlnEcnS",
        "outputId": "5580a6bb-07c7-4b3f-8d5b-aa4177b98062"
      },
      "execution_count": null,
      "outputs": [
        {
          "output_type": "execute_result",
          "data": {
            "text/plain": [
              "array([6, 1, 3, 6, 1, 1, 2])"
            ]
          },
          "metadata": {},
          "execution_count": 11
        }
      ]
    },
    {
      "cell_type": "markdown",
      "source": [
        "6. Sabendo que o fatorial de um número é definido como:\n",
        "\n",
        "   x! = x.(x-1).(x-2)...1\n",
        "\n",
        "   Crie um script que calcule o fatorial de um número qualquer.\n"
      ],
      "metadata": {
        "id": "GY5pY0EOFMv3"
      }
    },
    {
      "cell_type": "code",
      "source": [
        "num = 5\n",
        "\n",
        "fat = 1\n",
        "\n",
        "for i in range(1, num + 1):\n",
        "  fat *= i\n",
        "\n",
        "fat  "
      ],
      "metadata": {
        "colab": {
          "base_uri": "https://localhost:8080/"
        },
        "id": "aEtVVBcRFjeK",
        "outputId": "4c8effe5-4682-4cfb-b6b3-4be1e947de60"
      },
      "execution_count": null,
      "outputs": [
        {
          "output_type": "execute_result",
          "data": {
            "text/plain": [
              "120"
            ]
          },
          "metadata": {},
          "execution_count": 12
        }
      ]
    },
    {
      "cell_type": "markdown",
      "source": [
        "7. LEI DOS GRANDES NÚMEROS Teste a lei dos grandes números para N números aleatórios gerados com distribuição normal (média = 0 e desvio padrão = 1). Crie um script que conte quantos esses números caem entre -1 e 1 e divida por N. Você sabe que E(X) = 68.2% Verifique que a média(Xn) tende a E(X) conforme você roda o script para valores maiores de N"
      ],
      "metadata": {
        "id": "h04L99ccLHny"
      }
    },
    {
      "cell_type": "code",
      "source": [
        "experimentos = 1000\n",
        "cont = 0\n",
        "\n",
        "for i in range(experimentos):\n",
        "  x = np.random.normal(size=1)\n",
        "  if x > -1 and x < 1:\n",
        "    cont +=1\n",
        "cont / experimentos    "
      ],
      "metadata": {
        "colab": {
          "base_uri": "https://localhost:8080/"
        },
        "id": "ohJNfwCpokEk",
        "outputId": "f8786dc1-0d50-4ac3-afdf-f19efb6bb5cb"
      },
      "execution_count": null,
      "outputs": [
        {
          "output_type": "execute_result",
          "data": {
            "text/plain": [
              "0.699"
            ]
          },
          "metadata": {},
          "execution_count": 26
        }
      ]
    },
    {
      "cell_type": "code",
      "source": [],
      "metadata": {
        "id": "dQukZ1Yesp3o"
      },
      "execution_count": null,
      "outputs": []
    }
  ]
}